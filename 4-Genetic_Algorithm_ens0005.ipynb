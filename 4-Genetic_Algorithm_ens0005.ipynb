{
 "cells": [
  {
   "cell_type": "code",
   "execution_count": 281,
   "metadata": {},
   "outputs": [],
   "source": [
    "import numpy as np\n",
    "import matplotlib.pyplot as plt"
   ]
  },
  {
   "cell_type": "code",
   "execution_count": 353,
   "metadata": {},
   "outputs": [],
   "source": [
    "def cities_dic(D):\n",
    "    '''Initialize hacseble structure to store coordinates of cities'''\n",
    "    \n",
    "    #names of cities\n",
    "    alphabet = 'ABCDEFGHIJKLMNOPQRSTUVWXYZabcdefghijklmnopqrstuvwxyz' \n",
    "    individuals = {}\n",
    "    for d in range(D): #randomly choose coordinates\n",
    "        x = np.random.randint(200)\n",
    "        y = np.random.randint(200)\n",
    "        #fill in dictionary with cities and coordinates   \n",
    "        individuals[alphabet[d]] = (x,y) \n",
    "    return individuals"
   ]
  },
  {
   "cell_type": "code",
   "execution_count": 370,
   "metadata": {},
   "outputs": [],
   "source": [
    "def generate_population(D, NP):\n",
    "    '''Returns list with combinations of cities'''\n",
    "    \n",
    "    population = []\n",
    "    for _ in range(NP): #append list with random combinations \n",
    "        population.append(sorted(cities, key = lambda x: np.random.randint(D)))\n",
    "    return population"
   ]
  },
  {
   "cell_type": "code",
   "execution_count": 371,
   "metadata": {},
   "outputs": [],
   "source": [
    "def dist(coordinates1, coordinates2):\n",
    "    '''Calculates dustance between two sets of coordinates'''\n",
    "    \n",
    "    x1, y1 = coordinates1\n",
    "    x2, y2 = coordinates2\n",
    "    return ((x2-x1)**2 + (y2-y1)**2)**0.5"
   ]
  },
  {
   "cell_type": "code",
   "execution_count": 372,
   "metadata": {},
   "outputs": [],
   "source": [
    "def total_dist(individual):\n",
    "    '''Calculates total length of journey through all cities and back'''\n",
    "    \n",
    "    #unpacking of coordinates\n",
    "    coordinates = [individual_dic.get(city) for city in individual] \n",
    "    return sum([dist(coordinates[i], coordinates[i+1-D]) for i in range(D)]) \n",
    "    "
   ]
  },
  {
   "cell_type": "code",
   "execution_count": 373,
   "metadata": {},
   "outputs": [],
   "source": [
    "def plot_cities(individual):\n",
    "    '''Returns plot with map of journey'''\n",
    "    \n",
    "    #unpacking coordinates using dictionary with cities\n",
    "    x_points = [cities[i][0] for i in individual] \n",
    "    y_points = [cities[i][1] for i in individual]\n",
    "\n",
    "    fig = plt.figure(figsize= (5,5))\n",
    "\n",
    "    plt.xlabel('X')\n",
    "    plt.ylabel('Y')\n",
    "    plt.title('Map of the cities')\n",
    "    plt.xlim(0,220)\n",
    "    plt.ylim(0,220)\n",
    "    plt.plot(x_points, y_points, 'ko') #plot points\n",
    "    plt.plot(x_points, y_points, 'r-') #plot lines between points\n",
    "    \n",
    "    #place city's name on the plot\n",
    "    for city in individual:\n",
    "        x, y = cities[city]\n",
    "        plt.text(x, y+7, city, fontsize=11)"
   ]
  },
  {
   "cell_type": "code",
   "execution_count": 374,
   "metadata": {},
   "outputs": [],
   "source": [
    "def genetic_algotithm(NP, G, D):\n",
    "    '''Genetic algorithm for solving Travelling Salesman Problem\n",
    "    \n",
    "    Parameters:\n",
    "    NP(int) -  Number of individuals in population\n",
    "    G(int) - Number of generations\n",
    "    D(int) - Number of cities to visit\n",
    "    \n",
    "    Description:\n",
    "    Inside every generation: In a loop select parent_A and \n",
    "    parent_B (randomly from population) -> crossover individuals -> \n",
    "    make additioanl single mutation ->  compare mutation with parent_A ->\n",
    "    rewrite population\n",
    "    '''\n",
    "    population = generate_population(D, NP)\n",
    "\n",
    "    for _ in range(G):\n",
    "        new_population = population.copy()\n",
    "        s = int(D*0.75) #initialize crossover index\n",
    "        \n",
    "        for ind in range(NP):\n",
    "            parent_A = population[ind] #select the first parent\n",
    "            \n",
    "            list_ind = list(range(NP))\n",
    "            list_ind.remove(ind) #exlude current index from a list\n",
    "            #randomly select the second parent different from the first parent \n",
    "            parent_B = population[np.random.choice(list_ind)]\n",
    "            \n",
    "            #crossover two parents\n",
    "            offspring_AB = parent_A[:s] + [x for x in parent_B if x not in parent_A[:s]]\n",
    "            \n",
    "            #make a single mutation randomly \n",
    "            if np.random.uniform() < 0.5:\n",
    "                pos1, pos2 = np.random.choice(list(range(D)), 2)\n",
    "                offspring_AB[pos1], offspring_AB[pos2] = offspring_AB[pos2], offspring_AB[pos1]\n",
    "            \n",
    "            #rewrite population if affspring is better then parent\n",
    "            if total_dist(offspring_AB) < total_dist(parent_A):\n",
    "                new_population[ind] = offspring_AB\n",
    "            \n",
    "            population = new_population\n",
    "            best = sorted(population, key = lambda x: total_dist(x))[0]\n",
    "    \n",
    "    print('Best combination: {}'.format(best))\n",
    "    print('Shortest distance: {}'.format(round(total_dist(best))))\n",
    "    return best"
   ]
  },
  {
   "cell_type": "code",
   "execution_count": 424,
   "metadata": {},
   "outputs": [],
   "source": [
    "cities = cities_dic(20)"
   ]
  },
  {
   "cell_type": "code",
   "execution_count": 427,
   "metadata": {},
   "outputs": [
    {
     "name": "stdout",
     "output_type": "stream",
     "text": [
      "Best combination: ['K', 'T', 'N', 'F', 'R', 'H', 'D', 'G', 'S', 'A', 'E', 'P', 'C', 'J', 'I', 'Q', 'L', 'O', 'B', 'M']\n",
      "Shortest distance: 842\n"
     ]
    },
    {
     "data": {
      "image/png": "[encoded data removed]",
      "text/plain": [
       "<Figure size 360x360 with 1 Axes>"
      ]
     },
     "metadata": {
      "needs_background": "light"
     },
     "output_type": "display_data"
    }
   ],
   "source": [
    "best = genetic_algotithm(20, 2000, 20)\n",
    "plot_cities(best)"
   ]
  },
  {
   "cell_type": "code",
   "execution_count": null,
   "metadata": {},
   "outputs": [],
   "source": []
  }
 ],
 "metadata": {
  "kernelspec": {
   "display_name": "Python 3",
   "language": "python",
   "name": "python3"
  },
  "language_info": {
   "codemirror_mode": {
    "name": "ipython",
    "version": 3
   },
   "file_extension": ".py",
   "mimetype": "text/x-python",
   "name": "python",
   "nbconvert_exporter": "python",
   "pygments_lexer": "ipython3",
   "version": "3.7.4"
  }
 },
 "nbformat": 4,
 "nbformat_minor": 2
}
