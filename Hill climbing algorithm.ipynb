{
 "cells": [
  {
   "cell_type": "code",
   "execution_count": 1,
   "metadata": {},
   "outputs": [],
   "source": [
    "import numpy as np\n",
    "from  Functions import *\n",
    "from mpl_toolkits import mplot3d\n",
    "import matplotlib.pyplot as plt\n",
    "%matplotlib inline\n",
    "plt.rcParams[\"figure.figsize\"] = 12.8, 9.6"
   ]
  },
  {
   "cell_type": "code",
   "execution_count": 2,
   "metadata": {},
   "outputs": [],
   "source": [
    "#There are many possibe ways to generate random float. In this solution numpy.random.uniform was used \n",
    "#Functions names:\n",
    "#['sphere', 'ackley', 'rastrigin', 'rosenbrock', 'griewank', 'schwefel', 'levy', 'micha','zakhar']"
   ]
  },
  {
   "cell_type": "code",
   "execution_count": 3,
   "metadata": {},
   "outputs": [],
   "source": [
    "#generate a plot with function and with optimal points \n",
    "def make_plt(func_name, x1_opt, x2_opt, z_opt):\n",
    "    func = func_dic[func_name][0]    #choose function\n",
    "    low_lim = func_dic[func_name][1][0]  #find limits\n",
    "    high_lim = func_dic[func_name][1][1]\n",
    "\n",
    "    x1 = np.linspace(low_lim, high_lim, 100) #generate coordinates for ploting func\n",
    "    x2 = np.linspace(low_lim, high_lim, 100)\n",
    "\n",
    "    xx1, xx2 = np.meshgrid(x1, x2, sparse=True) #grid of coordinates, result - shape1 = (1, 100), shape2 = (100, 1)\n",
    "    z = np.empty([xx1.shape[1], xx2.shape[0]]) #empty matrix (100, 100)\n",
    "\n",
    "    for i in range(xx2.shape[0]): #filling z matrix using preprepared functins. ?????? can be better solution\n",
    "        for j in range(xx1.shape[1]):\n",
    "            z[i, j] = func([xx1[:, j][0] , xx2[i][0]])\n",
    "\n",
    "    ax = plt.axes(projection='3d') #create 3D template\n",
    "    ax.scatter3D(x1_opt, x2_opt, z_opt, color = \"red\") #plotting optimal points\n",
    "    ax.plot_wireframe(xx1, xx2, z, cmap='jet') #plotting function"
   ]
  },
  {
   "cell_type": "code",
   "execution_count": 6,
   "metadata": {},
   "outputs": [],
   "source": [
    "#Algorithm uses number of iterations, but it can also use some tolerance to determine convergence \n",
    "# k - is number of neighbours \n",
    "\n",
    "def hill_climb(func_name = 'sphere', dimension = 2, std = 0.1, n_iter = 100, k = 1, seed = 123): \n",
    "    np.random.seed(seed)     #for reproducibility\n",
    "    func = func_dic[func_name][0]    #choose function\n",
    "    low_lim = func_dic[func_name][1][0]  #find limits\n",
    "    high_lim = func_dic[func_name][1][1]\n",
    "    \n",
    "    x_rnd = np.random.uniform(low_lim, high_lim, dimension) #generate initial random vector of x\n",
    "    best_value = func(x_rnd) #iniciate best value\n",
    "    \n",
    "    for i in range(n_iter):  #make a loop for a number of iterations\n",
    "        mu = x_rnd\n",
    "        x_rnd = np.random.normal(mu, std)\n",
    "        \n",
    "    "
   ]
  },
  {
   "cell_type": "code",
   "execution_count": null,
   "metadata": {},
   "outputs": [],
   "source": []
  },
  {
   "cell_type": "code",
   "execution_count": null,
   "metadata": {},
   "outputs": [],
   "source": []
  },
  {
   "cell_type": "code",
   "execution_count": null,
   "metadata": {},
   "outputs": [],
   "source": []
  },
  {
   "cell_type": "code",
   "execution_count": null,
   "metadata": {},
   "outputs": [],
   "source": []
  },
  {
   "cell_type": "code",
   "execution_count": null,
   "metadata": {},
   "outputs": [],
   "source": []
  },
  {
   "cell_type": "code",
   "execution_count": null,
   "metadata": {},
   "outputs": [],
   "source": []
  },
  {
   "cell_type": "code",
   "execution_count": null,
   "metadata": {},
   "outputs": [],
   "source": []
  },
  {
   "cell_type": "code",
   "execution_count": null,
   "metadata": {},
   "outputs": [],
   "source": []
  },
  {
   "cell_type": "code",
   "execution_count": null,
   "metadata": {},
   "outputs": [],
   "source": []
  },
  {
   "cell_type": "code",
   "execution_count": null,
   "metadata": {},
   "outputs": [],
   "source": []
  },
  {
   "cell_type": "code",
   "execution_count": null,
   "metadata": {},
   "outputs": [],
   "source": []
  },
  {
   "cell_type": "code",
   "execution_count": null,
   "metadata": {},
   "outputs": [],
   "source": []
  },
  {
   "cell_type": "code",
   "execution_count": null,
   "metadata": {},
   "outputs": [],
   "source": []
  },
  {
   "cell_type": "code",
   "execution_count": null,
   "metadata": {},
   "outputs": [],
   "source": []
  }
 ],
 "metadata": {
  "kernelspec": {
   "display_name": "Python 3",
   "language": "python",
   "name": "python3"
  },
  "language_info": {
   "codemirror_mode": {
    "name": "ipython",
    "version": 3
   },
   "file_extension": ".py",
   "mimetype": "text/x-python",
   "name": "python",
   "nbconvert_exporter": "python",
   "pygments_lexer": "ipython3",
   "version": "3.7.4"
  }
 },
 "nbformat": 4,
 "nbformat_minor": 2
}
